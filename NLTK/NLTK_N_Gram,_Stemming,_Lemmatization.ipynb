{
  "nbformat": 4,
  "nbformat_minor": 0,
  "metadata": {
    "colab": {
      "name": "NLTK: N-Gram, Stemming, Lemmatization.ipynb",
      "provenance": [],
      "collapsed_sections": [
        "eEjD3WACj6MD",
        "DBZHJJj0kmYG",
        "uUiYQRd3n1sX"
      ]
    },
    "kernelspec": {
      "name": "python3",
      "display_name": "Python 3"
    }
  },
  "cells": [
    {
      "cell_type": "code",
      "metadata": {
        "id": "Hlh086uEktih",
        "colab_type": "code",
        "colab": {
          "base_uri": "https://localhost:8080/",
          "height": 170
        },
        "outputId": "203a1bf8-68be-41a5-9b99-a88f277da437"
      },
      "source": [
        "import nltk\n",
        "nltk.download('reuters')\n",
        "nltk.download('stopwords')\n",
        "nltk.download('punkt')\n",
        "nltk.download('wordnet')"
      ],
      "execution_count": 1,
      "outputs": [
        {
          "output_type": "stream",
          "text": [
            "[nltk_data] Downloading package reuters to /root/nltk_data...\n",
            "[nltk_data]   Package reuters is already up-to-date!\n",
            "[nltk_data] Downloading package stopwords to /root/nltk_data...\n",
            "[nltk_data]   Package stopwords is already up-to-date!\n",
            "[nltk_data] Downloading package punkt to /root/nltk_data...\n",
            "[nltk_data]   Package punkt is already up-to-date!\n",
            "[nltk_data] Downloading package wordnet to /root/nltk_data...\n",
            "[nltk_data]   Package wordnet is already up-to-date!\n"
          ],
          "name": "stdout"
        },
        {
          "output_type": "execute_result",
          "data": {
            "text/plain": [
              "True"
            ]
          },
          "metadata": {
            "tags": []
          },
          "execution_count": 1
        }
      ]
    },
    {
      "cell_type": "markdown",
      "metadata": {
        "id": "eEjD3WACj6MD",
        "colab_type": "text"
      },
      "source": [
        "### Generating N-Grams"
      ]
    },
    {
      "cell_type": "code",
      "metadata": {
        "id": "pCMplL-Efa_6",
        "colab_type": "code",
        "colab": {
          "base_uri": "https://localhost:8080/",
          "height": 71
        },
        "outputId": "677aa6f4-5f43-4f4d-bd35-f70acd15ea30"
      },
      "source": [
        "s = \"His exquisite sincerity education shameless ten earnestly breakfast add. So we me unknown as improve hastily sitting forming. Especially favourable compliment but thoroughly unreserved saw she themselves. Sufficient impossible him may ten insensible put continuing. Oppose exeter income simple few joy cousin but twenty. Scale began quiet up short wrong in in. Sportsmen shy forfeited engrossed may can. \"\n",
        "\n",
        "s.lower()"
      ],
      "execution_count": 2,
      "outputs": [
        {
          "output_type": "execute_result",
          "data": {
            "application/vnd.google.colaboratory.intrinsic": {
              "type": "string"
            },
            "text/plain": [
              "'his exquisite sincerity education shameless ten earnestly breakfast add. so we me unknown as improve hastily sitting forming. especially favourable compliment but thoroughly unreserved saw she themselves. sufficient impossible him may ten insensible put continuing. oppose exeter income simple few joy cousin but twenty. scale began quiet up short wrong in in. sportsmen shy forfeited engrossed may can. '"
            ]
          },
          "metadata": {
            "tags": []
          },
          "execution_count": 2
        }
      ]
    },
    {
      "cell_type": "code",
      "metadata": {
        "id": "JJwqcNZCgKVT",
        "colab_type": "code",
        "colab": {
          "base_uri": "https://localhost:8080/",
          "height": 54
        },
        "outputId": "68414310-aff0-4de3-ca1e-ec46d46b7a07"
      },
      "source": [
        "from nltk.tokenize import RegexpTokenizer\n",
        "\n",
        "tokenizer = RegexpTokenizer('[a-zA-Z]+')\n",
        "s_tokenized = tokenizer.tokenize(s)\n",
        "print(s_tokenized)"
      ],
      "execution_count": 3,
      "outputs": [
        {
          "output_type": "stream",
          "text": [
            "['His', 'exquisite', 'sincerity', 'education', 'shameless', 'ten', 'earnestly', 'breakfast', 'add', 'So', 'we', 'me', 'unknown', 'as', 'improve', 'hastily', 'sitting', 'forming', 'Especially', 'favourable', 'compliment', 'but', 'thoroughly', 'unreserved', 'saw', 'she', 'themselves', 'Sufficient', 'impossible', 'him', 'may', 'ten', 'insensible', 'put', 'continuing', 'Oppose', 'exeter', 'income', 'simple', 'few', 'joy', 'cousin', 'but', 'twenty', 'Scale', 'began', 'quiet', 'up', 'short', 'wrong', 'in', 'in', 'Sportsmen', 'shy', 'forfeited', 'engrossed', 'may', 'can']\n"
          ],
          "name": "stdout"
        }
      ]
    },
    {
      "cell_type": "code",
      "metadata": {
        "id": "ItOcTvXxgnMG",
        "colab_type": "code",
        "colab": {}
      },
      "source": [
        "from nltk.util import ngrams\n",
        "N_GRAM = 4\n",
        "generated_4gram = list(ngrams(s_tokenized, n = N_GRAM))"
      ],
      "execution_count": 4,
      "outputs": []
    },
    {
      "cell_type": "code",
      "metadata": {
        "id": "YudgRRvHg2Jk",
        "colab_type": "code",
        "colab": {
          "base_uri": "https://localhost:8080/",
          "height": 952
        },
        "outputId": "a5317a87-6444-4e71-d6d6-6c520a36330e"
      },
      "source": [
        "generated_4gram"
      ],
      "execution_count": 5,
      "outputs": [
        {
          "output_type": "execute_result",
          "data": {
            "text/plain": [
              "[('His', 'exquisite', 'sincerity', 'education'),\n",
              " ('exquisite', 'sincerity', 'education', 'shameless'),\n",
              " ('sincerity', 'education', 'shameless', 'ten'),\n",
              " ('education', 'shameless', 'ten', 'earnestly'),\n",
              " ('shameless', 'ten', 'earnestly', 'breakfast'),\n",
              " ('ten', 'earnestly', 'breakfast', 'add'),\n",
              " ('earnestly', 'breakfast', 'add', 'So'),\n",
              " ('breakfast', 'add', 'So', 'we'),\n",
              " ('add', 'So', 'we', 'me'),\n",
              " ('So', 'we', 'me', 'unknown'),\n",
              " ('we', 'me', 'unknown', 'as'),\n",
              " ('me', 'unknown', 'as', 'improve'),\n",
              " ('unknown', 'as', 'improve', 'hastily'),\n",
              " ('as', 'improve', 'hastily', 'sitting'),\n",
              " ('improve', 'hastily', 'sitting', 'forming'),\n",
              " ('hastily', 'sitting', 'forming', 'Especially'),\n",
              " ('sitting', 'forming', 'Especially', 'favourable'),\n",
              " ('forming', 'Especially', 'favourable', 'compliment'),\n",
              " ('Especially', 'favourable', 'compliment', 'but'),\n",
              " ('favourable', 'compliment', 'but', 'thoroughly'),\n",
              " ('compliment', 'but', 'thoroughly', 'unreserved'),\n",
              " ('but', 'thoroughly', 'unreserved', 'saw'),\n",
              " ('thoroughly', 'unreserved', 'saw', 'she'),\n",
              " ('unreserved', 'saw', 'she', 'themselves'),\n",
              " ('saw', 'she', 'themselves', 'Sufficient'),\n",
              " ('she', 'themselves', 'Sufficient', 'impossible'),\n",
              " ('themselves', 'Sufficient', 'impossible', 'him'),\n",
              " ('Sufficient', 'impossible', 'him', 'may'),\n",
              " ('impossible', 'him', 'may', 'ten'),\n",
              " ('him', 'may', 'ten', 'insensible'),\n",
              " ('may', 'ten', 'insensible', 'put'),\n",
              " ('ten', 'insensible', 'put', 'continuing'),\n",
              " ('insensible', 'put', 'continuing', 'Oppose'),\n",
              " ('put', 'continuing', 'Oppose', 'exeter'),\n",
              " ('continuing', 'Oppose', 'exeter', 'income'),\n",
              " ('Oppose', 'exeter', 'income', 'simple'),\n",
              " ('exeter', 'income', 'simple', 'few'),\n",
              " ('income', 'simple', 'few', 'joy'),\n",
              " ('simple', 'few', 'joy', 'cousin'),\n",
              " ('few', 'joy', 'cousin', 'but'),\n",
              " ('joy', 'cousin', 'but', 'twenty'),\n",
              " ('cousin', 'but', 'twenty', 'Scale'),\n",
              " ('but', 'twenty', 'Scale', 'began'),\n",
              " ('twenty', 'Scale', 'began', 'quiet'),\n",
              " ('Scale', 'began', 'quiet', 'up'),\n",
              " ('began', 'quiet', 'up', 'short'),\n",
              " ('quiet', 'up', 'short', 'wrong'),\n",
              " ('up', 'short', 'wrong', 'in'),\n",
              " ('short', 'wrong', 'in', 'in'),\n",
              " ('wrong', 'in', 'in', 'Sportsmen'),\n",
              " ('in', 'in', 'Sportsmen', 'shy'),\n",
              " ('in', 'Sportsmen', 'shy', 'forfeited'),\n",
              " ('Sportsmen', 'shy', 'forfeited', 'engrossed'),\n",
              " ('shy', 'forfeited', 'engrossed', 'may'),\n",
              " ('forfeited', 'engrossed', 'may', 'can')]"
            ]
          },
          "metadata": {
            "tags": []
          },
          "execution_count": 5
        }
      ]
    },
    {
      "cell_type": "markdown",
      "metadata": {
        "id": "DBZHJJj0kmYG",
        "colab_type": "text"
      },
      "source": [
        "### BiGrams (using Reuters Data)"
      ]
    },
    {
      "cell_type": "code",
      "metadata": {
        "id": "FM3HhCojkoXI",
        "colab_type": "code",
        "colab": {
          "base_uri": "https://localhost:8080/",
          "height": 140
        },
        "outputId": "abeaabe3-df60-4f5f-e7e8-5e4cf770c7e9"
      },
      "source": [
        "from nltk.corpus import reuters\n",
        "\n",
        "reuters.readme().replace('\\n', ' ')"
      ],
      "execution_count": 6,
      "outputs": [
        {
          "output_type": "execute_result",
          "data": {
            "application/vnd.google.colaboratory.intrinsic": {
              "type": "string"
            },
            "text/plain": [
              "'       The Reuters-21578 benchmark corpus, ApteMod version  This is a publically available version of the well-known Reuters-21578 \"ApteMod\" corpus for text categorization.  It has been used in publications like these:   * Yiming Yang and X. Liu. \"A re-examination of text categorization    methods\".  1999.  Proceedings of 22nd Annual International SIGIR.    http://citeseer.nj.nec.com/yang99reexamination.html   * Thorsten Joachims. \"Text categorization with support vector    machines: learning with many relevant features\".  1998. Proceedings    of ECML-98, 10th European Conference on Machine Learning.    http://citeseer.nj.nec.com/joachims98text.html  ApteMod is a collection of 10,788 documents from the Reuters financial newswire service, partitioned into a training set with 7769 documents and a test set with 3019 documents.  The total size of the corpus is about 43 MB.  It is also available for download from http://kdd.ics.uci.edu/databases/reuters21578/reuters21578.html , which includes a more extensive history of the data revisions.  The distribution of categories in the ApteMod corpus is highly skewed, with 36.7% of the documents in the most common category, and only 0.0185% (2 documents) in each of the five least common categories. In fact, the original data source is even more skewed---in creating the corpus, any categories that did not contain at least one document in the training set and one document in the test set were removed from the corpus by its original creator.  In the ApteMod corpus, each document belongs to one or more categories.  There are 90 categories in the corpus.  The average number of categories per document is 1.235, and the average number of documents per category is about 148, or 1.37% of the corpus.   -Ken Williams   ken@mathforum.org           Copyright & Notification   (extracted from the README at the UCI address above)  The copyright for the text of newswire articles and Reuters annotations in the Reuters-21578 collection resides with Reuters Ltd. Reuters Ltd. and Carnegie Group, Inc. have agreed to allow the free distribution of this data *for research purposes only*.    If you publish results based on this data set, please acknowledge its use, refer to the data set by the name \"Reuters-21578, Distribution 1.0\", and inform your readers of the current location of the data set (see \"Availability & Questions\").  '"
            ]
          },
          "metadata": {
            "tags": []
          },
          "execution_count": 6
        }
      ]
    },
    {
      "cell_type": "code",
      "metadata": {
        "id": "lFtPAvBhkrX5",
        "colab_type": "code",
        "colab": {
          "base_uri": "https://localhost:8080/",
          "height": 34
        },
        "outputId": "3838d641-5691-43d5-daca-3fe901ce4421"
      },
      "source": [
        "reuters.fileids()[:5]"
      ],
      "execution_count": 7,
      "outputs": [
        {
          "output_type": "execute_result",
          "data": {
            "text/plain": [
              "['test/14826', 'test/14828', 'test/14829', 'test/14832', 'test/14833']"
            ]
          },
          "metadata": {
            "tags": []
          },
          "execution_count": 7
        }
      ]
    },
    {
      "cell_type": "code",
      "metadata": {
        "id": "w6cwr-XMlGpk",
        "colab_type": "code",
        "colab": {
          "base_uri": "https://localhost:8080/",
          "height": 34
        },
        "outputId": "e5d7ee3a-bda8-43c4-9cff-e222e08e2c58"
      },
      "source": [
        "print('Total Files in Reuters Data: ', len(reuters.fileids()))"
      ],
      "execution_count": 8,
      "outputs": [
        {
          "output_type": "stream",
          "text": [
            "Total Files in Reuters Data:  10788\n"
          ],
          "name": "stdout"
        }
      ]
    },
    {
      "cell_type": "code",
      "metadata": {
        "id": "vy1K9KP6lR4y",
        "colab_type": "code",
        "colab": {
          "base_uri": "https://localhost:8080/",
          "height": 1000
        },
        "outputId": "86b96004-a94b-4882-9ccf-68b94c7705ef"
      },
      "source": [
        "reuters.categories()"
      ],
      "execution_count": 9,
      "outputs": [
        {
          "output_type": "execute_result",
          "data": {
            "text/plain": [
              "['acq',\n",
              " 'alum',\n",
              " 'barley',\n",
              " 'bop',\n",
              " 'carcass',\n",
              " 'castor-oil',\n",
              " 'cocoa',\n",
              " 'coconut',\n",
              " 'coconut-oil',\n",
              " 'coffee',\n",
              " 'copper',\n",
              " 'copra-cake',\n",
              " 'corn',\n",
              " 'cotton',\n",
              " 'cotton-oil',\n",
              " 'cpi',\n",
              " 'cpu',\n",
              " 'crude',\n",
              " 'dfl',\n",
              " 'dlr',\n",
              " 'dmk',\n",
              " 'earn',\n",
              " 'fuel',\n",
              " 'gas',\n",
              " 'gnp',\n",
              " 'gold',\n",
              " 'grain',\n",
              " 'groundnut',\n",
              " 'groundnut-oil',\n",
              " 'heat',\n",
              " 'hog',\n",
              " 'housing',\n",
              " 'income',\n",
              " 'instal-debt',\n",
              " 'interest',\n",
              " 'ipi',\n",
              " 'iron-steel',\n",
              " 'jet',\n",
              " 'jobs',\n",
              " 'l-cattle',\n",
              " 'lead',\n",
              " 'lei',\n",
              " 'lin-oil',\n",
              " 'livestock',\n",
              " 'lumber',\n",
              " 'meal-feed',\n",
              " 'money-fx',\n",
              " 'money-supply',\n",
              " 'naphtha',\n",
              " 'nat-gas',\n",
              " 'nickel',\n",
              " 'nkr',\n",
              " 'nzdlr',\n",
              " 'oat',\n",
              " 'oilseed',\n",
              " 'orange',\n",
              " 'palladium',\n",
              " 'palm-oil',\n",
              " 'palmkernel',\n",
              " 'pet-chem',\n",
              " 'platinum',\n",
              " 'potato',\n",
              " 'propane',\n",
              " 'rand',\n",
              " 'rape-oil',\n",
              " 'rapeseed',\n",
              " 'reserves',\n",
              " 'retail',\n",
              " 'rice',\n",
              " 'rubber',\n",
              " 'rye',\n",
              " 'ship',\n",
              " 'silver',\n",
              " 'sorghum',\n",
              " 'soy-meal',\n",
              " 'soy-oil',\n",
              " 'soybean',\n",
              " 'strategic-metal',\n",
              " 'sugar',\n",
              " 'sun-meal',\n",
              " 'sun-oil',\n",
              " 'sunseed',\n",
              " 'tea',\n",
              " 'tin',\n",
              " 'trade',\n",
              " 'veg-oil',\n",
              " 'wheat',\n",
              " 'wpi',\n",
              " 'yen',\n",
              " 'zinc']"
            ]
          },
          "metadata": {
            "tags": []
          },
          "execution_count": 9
        }
      ]
    },
    {
      "cell_type": "code",
      "metadata": {
        "id": "rI3NfsAClUBh",
        "colab_type": "code",
        "colab": {
          "base_uri": "https://localhost:8080/",
          "height": 34
        },
        "outputId": "396487ef-fed7-4248-ce6f-6cd8f09b2990"
      },
      "source": [
        "trade_words = reuters.words(categories= 'trade')\n",
        "len(trade_words)"
      ],
      "execution_count": 10,
      "outputs": [
        {
          "output_type": "execute_result",
          "data": {
            "text/plain": [
              "142723"
            ]
          },
          "metadata": {
            "tags": []
          },
          "execution_count": 10
        }
      ]
    },
    {
      "cell_type": "code",
      "metadata": {
        "id": "osQ5MzIXl061",
        "colab_type": "code",
        "colab": {
          "base_uri": "https://localhost:8080/",
          "height": 34
        },
        "outputId": "823a3dd0-bf16-476a-bc32-846e4a9e76da"
      },
      "source": [
        "trade_words_condensed = trade_words[:200]\n",
        "trade_words_condensed"
      ],
      "execution_count": 11,
      "outputs": [
        {
          "output_type": "execute_result",
          "data": {
            "text/plain": [
              "['ASIAN', 'EXPORTERS', 'FEAR', 'DAMAGE', 'FROM', 'U', ...]"
            ]
          },
          "metadata": {
            "tags": []
          },
          "execution_count": 11
        }
      ]
    },
    {
      "cell_type": "code",
      "metadata": {
        "id": "ntflfHQol-2c",
        "colab_type": "code",
        "colab": {
          "base_uri": "https://localhost:8080/",
          "height": 187
        },
        "outputId": "a247b0f1-74b6-48c0-dc7f-d68f0c0bccd0"
      },
      "source": [
        "from nltk.corpus import stopwords\n",
        "\n",
        "# Remove stopwords from trade_words_condensed and lower case it\n",
        "trade_words_condensed = [w.lower() for w in trade_words_condensed if w.lower() not in stopwords.words('english')]\n",
        "trade_words_condensed[:10]"
      ],
      "execution_count": 12,
      "outputs": [
        {
          "output_type": "execute_result",
          "data": {
            "text/plain": [
              "['asian',\n",
              " 'exporters',\n",
              " 'fear',\n",
              " 'damage',\n",
              " 'u',\n",
              " '.',\n",
              " '.-',\n",
              " 'japan',\n",
              " 'rift',\n",
              " 'mounting']"
            ]
          },
          "metadata": {
            "tags": []
          },
          "execution_count": 12
        }
      ]
    },
    {
      "cell_type": "code",
      "metadata": {
        "id": "Dq9bRROxmD0F",
        "colab_type": "code",
        "colab": {
          "base_uri": "https://localhost:8080/",
          "height": 34
        },
        "outputId": "c86d9eec-1dfb-4c0c-ad6a-4a1b91eafe40"
      },
      "source": [
        "# Removing the punctuation marks\n",
        "import string\n",
        "\n",
        "punct_combo = [c + \"\\\"\" for c in string.punctuation ] + [\"\\\"\" + c for c in string.punctuation] + [\".-\", \":-\", \"..\", \"...\"]\n",
        "trade_words_condensed = [ w for w in trade_words_condensed if w not in punct_combo and w not in string.punctuation ]\n",
        "\n",
        "print(trade_words_condensed[:10])"
      ],
      "execution_count": 13,
      "outputs": [
        {
          "output_type": "stream",
          "text": [
            "['asian', 'exporters', 'fear', 'damage', 'u', 'japan', 'rift', 'mounting', 'trade', 'friction']\n"
          ],
          "name": "stdout"
        }
      ]
    },
    {
      "cell_type": "code",
      "metadata": {
        "id": "2nHRCxP2ma6k",
        "colab_type": "code",
        "colab": {
          "base_uri": "https://localhost:8080/",
          "height": 102
        },
        "outputId": "7fdef515-a419-4aa9-a299-aecb317c3185"
      },
      "source": [
        "from nltk import bigrams\n",
        "\n",
        "bi_trade_words_condensed = list(bigrams(trade_words_condensed))\n",
        "bi_trade_words_condensed[:5]"
      ],
      "execution_count": 14,
      "outputs": [
        {
          "output_type": "execute_result",
          "data": {
            "text/plain": [
              "[('asian', 'exporters'),\n",
              " ('exporters', 'fear'),\n",
              " ('fear', 'damage'),\n",
              " ('damage', 'u'),\n",
              " ('u', 'japan')]"
            ]
          },
          "metadata": {
            "tags": []
          },
          "execution_count": 14
        }
      ]
    },
    {
      "cell_type": "code",
      "metadata": {
        "id": "Q7qKIctLnr3o",
        "colab_type": "code",
        "colab": {
          "base_uri": "https://localhost:8080/",
          "height": 102
        },
        "outputId": "356abb17-dbf5-4c9b-c3bb-22f886ea9b76"
      },
      "source": [
        "from nltk import FreqDist\n",
        "\n",
        "bi_fdist = FreqDist(bi_trade_words_condensed)\n",
        "\n",
        "for word, frequency in bi_fdist.most_common(5):\n",
        "    print(word, frequency)"
      ],
      "execution_count": 15,
      "outputs": [
        {
          "output_type": "stream",
          "text": [
            "('u', 'japan') 2\n",
            "('asian', 'exporters') 1\n",
            "('exporters', 'fear') 1\n",
            "('fear', 'damage') 1\n",
            "('damage', 'u') 1\n"
          ],
          "name": "stdout"
        }
      ]
    },
    {
      "cell_type": "code",
      "metadata": {
        "id": "9TFhTmmHnviv",
        "colab_type": "code",
        "colab": {
          "base_uri": "https://localhost:8080/",
          "height": 369
        },
        "outputId": "1ea07e46-7411-47ad-dfe8-4bf4b1e58540"
      },
      "source": [
        "bi_fdist.plot(5, cumulative=False)"
      ],
      "execution_count": 16,
      "outputs": [
        {
          "output_type": "display_data",
          "data": {
            "image/png": "[encoded data removed]",
            "text/plain": [
              "<Figure size 432x288 with 1 Axes>"
            ]
          },
          "metadata": {
            "tags": [],
            "needs_background": "light"
          }
        }
      ]
    },
    {
      "cell_type": "markdown",
      "metadata": {
        "id": "uUiYQRd3n1sX",
        "colab_type": "text"
      },
      "source": [
        "### Stemming"
      ]
    },
    {
      "cell_type": "code",
      "metadata": {
        "id": "tbaJOFZFny-H",
        "colab_type": "code",
        "colab": {}
      },
      "source": [
        "from nltk.stem import LancasterStemmer, PorterStemmer, SnowballStemmer"
      ],
      "execution_count": 17,
      "outputs": []
    },
    {
      "cell_type": "code",
      "metadata": {
        "id": "IhjRkX0UoI1E",
        "colab_type": "code",
        "colab": {}
      },
      "source": [
        "porter = PorterStemmer()\n",
        "lancaster = LancasterStemmer()\n",
        "snowball = SnowballStemmer(\"english\")"
      ],
      "execution_count": 18,
      "outputs": []
    },
    {
      "cell_type": "code",
      "metadata": {
        "id": "yoejiReGoLGL",
        "colab_type": "code",
        "colab": {
          "base_uri": "https://localhost:8080/",
          "height": 34
        },
        "outputId": "dd133a39-5e55-4720-8c9b-46891fd946a8"
      },
      "source": [
        "print(porter.stem('Re-testing'), lancaster.stem('Re-testing'), snowball.stem('Re-testing'))"
      ],
      "execution_count": 19,
      "outputs": [
        {
          "output_type": "stream",
          "text": [
            "re-test re-testing re-test\n"
          ],
          "name": "stdout"
        }
      ]
    },
    {
      "cell_type": "code",
      "metadata": {
        "id": "DW_NDzxnoNnk",
        "colab_type": "code",
        "colab": {
          "base_uri": "https://localhost:8080/",
          "height": 289
        },
        "outputId": "ae0aa7ca-9352-48a9-cc1b-2479e48c3f68"
      },
      "source": [
        "# Fun fact: SnowballStemmer can stem several other languages beside English.\n",
        "# To make, for instance, a French stemmer, we can do the following: french_stemmer = SnowballStemmer('french')\n",
        "SnowballStemmer.languages"
      ],
      "execution_count": 20,
      "outputs": [
        {
          "output_type": "execute_result",
          "data": {
            "text/plain": [
              "('arabic',\n",
              " 'danish',\n",
              " 'dutch',\n",
              " 'english',\n",
              " 'finnish',\n",
              " 'french',\n",
              " 'german',\n",
              " 'hungarian',\n",
              " 'italian',\n",
              " 'norwegian',\n",
              " 'porter',\n",
              " 'portuguese',\n",
              " 'romanian',\n",
              " 'russian',\n",
              " 'spanish',\n",
              " 'swedish')"
            ]
          },
          "metadata": {
            "tags": []
          },
          "execution_count": 20
        }
      ]
    },
    {
      "cell_type": "code",
      "metadata": {
        "id": "zlIo3qsroRoa",
        "colab_type": "code",
        "colab": {
          "base_uri": "https://localhost:8080/",
          "height": 561
        },
        "outputId": "d3b5b699-6de6-474a-afdf-c35cb6756fb2"
      },
      "source": [
        "from nltk import word_tokenize\n",
        "\n",
        "sentence = \"So, we'll go no more a-roving. So late into the night, Though the heart be still as loving, And the moon be still as bright.\"\n",
        "\n",
        "# This uses the 3-argument version of str.maketrans with arguments (x, y, z) where 'x' and 'y' must be equal-length strings and characters in 'x' are replaced by characters in 'y'. 'z' is a string (string.punctuation here) where each character in the string is mapped to None\n",
        "translator = str.maketrans('', '', string.punctuation)\n",
        "translator"
      ],
      "execution_count": 21,
      "outputs": [
        {
          "output_type": "execute_result",
          "data": {
            "text/plain": [
              "{33: None,\n",
              " 34: None,\n",
              " 35: None,\n",
              " 36: None,\n",
              " 37: None,\n",
              " 38: None,\n",
              " 39: None,\n",
              " 40: None,\n",
              " 41: None,\n",
              " 42: None,\n",
              " 43: None,\n",
              " 44: None,\n",
              " 45: None,\n",
              " 46: None,\n",
              " 47: None,\n",
              " 58: None,\n",
              " 59: None,\n",
              " 60: None,\n",
              " 61: None,\n",
              " 62: None,\n",
              " 63: None,\n",
              " 64: None,\n",
              " 91: None,\n",
              " 92: None,\n",
              " 93: None,\n",
              " 94: None,\n",
              " 95: None,\n",
              " 96: None,\n",
              " 123: None,\n",
              " 124: None,\n",
              " 125: None,\n",
              " 126: None}"
            ]
          },
          "metadata": {
            "tags": []
          },
          "execution_count": 21
        }
      ]
    },
    {
      "cell_type": "code",
      "metadata": {
        "id": "r-uy2gappTBJ",
        "colab_type": "code",
        "colab": {
          "base_uri": "https://localhost:8080/",
          "height": 34
        },
        "outputId": "099493d2-7dac-460c-eeb9-20196be52716"
      },
      "source": [
        "tokens = word_tokenize(sentence.translate(translator))\n",
        "tokens[:10]"
      ],
      "execution_count": 22,
      "outputs": [
        {
          "output_type": "execute_result",
          "data": {
            "text/plain": [
              "['So', 'well', 'go', 'no', 'more', 'aroving', 'So', 'late', 'into', 'the']"
            ]
          },
          "metadata": {
            "tags": []
          },
          "execution_count": 22
        }
      ]
    },
    {
      "cell_type": "code",
      "metadata": {
        "id": "lovP5SOBpnrO",
        "colab_type": "code",
        "colab": {
          "base_uri": "https://localhost:8080/",
          "height": 88
        },
        "outputId": "0a6c1be8-328c-497b-991d-00a89372da82"
      },
      "source": [
        "for stemmer in [porter, lancaster, snowball]:\n",
        "    print([stemmer.stem(t) for t in tokens])"
      ],
      "execution_count": 23,
      "outputs": [
        {
          "output_type": "stream",
          "text": [
            "['So', 'well', 'go', 'no', 'more', 'arov', 'So', 'late', 'into', 'the', 'night', 'though', 'the', 'heart', 'be', 'still', 'as', 'love', 'and', 'the', 'moon', 'be', 'still', 'as', 'bright']\n",
            "['so', 'wel', 'go', 'no', 'mor', 'arov', 'so', 'lat', 'into', 'the', 'night', 'though', 'the', 'heart', 'be', 'stil', 'as', 'lov', 'and', 'the', 'moon', 'be', 'stil', 'as', 'bright']\n",
            "['so', 'well', 'go', 'no', 'more', 'arov', 'so', 'late', 'into', 'the', 'night', 'though', 'the', 'heart', 'be', 'still', 'as', 'love', 'and', 'the', 'moon', 'be', 'still', 'as', 'bright']\n"
          ],
          "name": "stdout"
        }
      ]
    },
    {
      "cell_type": "markdown",
      "metadata": {
        "id": "34_8YX8vqLsS",
        "colab_type": "text"
      },
      "source": [
        "### Lemmatization"
      ]
    },
    {
      "cell_type": "code",
      "metadata": {
        "id": "iIRqovqzqIAV",
        "colab_type": "code",
        "colab": {
          "base_uri": "https://localhost:8080/",
          "height": 34
        },
        "outputId": "09f353c0-2be3-4345-834b-b5802baf143f"
      },
      "source": [
        "from nltk import WordNetLemmatizer\n",
        "\n",
        "wnl = WordNetLemmatizer()\n",
        "\n",
        "print(wnl.lemmatize('brightening'), wnl.lemmatize('boxes'))"
      ],
      "execution_count": 24,
      "outputs": [
        {
          "output_type": "stream",
          "text": [
            "brightening box\n"
          ],
          "name": "stdout"
        }
      ]
    },
    {
      "cell_type": "code",
      "metadata": {
        "id": "2TzzVa0rqZ3y",
        "colab_type": "code",
        "colab": {
          "base_uri": "https://localhost:8080/",
          "height": 37
        },
        "outputId": "6813fe40-b042-4a74-f7e5-2db03388c37e"
      },
      "source": [
        "# As we saw above, sometimes, if we try to lemmatize a word, it will end up with the same word. This is because the default part of speech is nouns.\n",
        "\n",
        "wnl.lemmatize('brightening', pos='v')"
      ],
      "execution_count": 25,
      "outputs": [
        {
          "output_type": "execute_result",
          "data": {
            "application/vnd.google.colaboratory.intrinsic": {
              "type": "string"
            },
            "text/plain": [
              "'brighten'"
            ]
          },
          "metadata": {
            "tags": []
          },
          "execution_count": 25
        }
      ]
    }
  ]
}